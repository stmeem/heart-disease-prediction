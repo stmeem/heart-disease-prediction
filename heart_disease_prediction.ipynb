{
  "nbformat": 4,
  "nbformat_minor": 5,
  "metadata": {
    "kernelspec": {
      "display_name": "Python 3",
      "language": "python",
      "name": "python3"
    },
    "language_info": {
      "codemirror_mode": {
        "name": "ipython",
        "version": 3
      },
      "file_extension": ".py",
      "mimetype": "text/x-python",
      "name": "python",
      "nbconvert_exporter": "python",
      "pygments_lexer": "ipython3",
      "version": "3.9.4"
    },
    "colab": {
      "name": "heart_disease_prediction.ipynb",
      "provenance": [],
      "include_colab_link": true
    }
  },
  "cells": [
    {
      "cell_type": "markdown",
      "metadata": {
        "id": "view-in-github",
        "colab_type": "text"
      },
      "source": [
        "<a href=\"https://colab.research.google.com/github/stmeem/heart-disease-prediction/blob/main/heart_disease_prediction.ipynb\" target=\"_parent\"><img src=\"https://colab.research.google.com/assets/colab-badge.svg\" alt=\"Open In Colab\"/></a>"
      ]
    },
    {
      "cell_type": "markdown",
      "metadata": {
        "id": "b3e0281f"
      },
      "source": [
        "## Heart Disease Prediction Using Machine Learning"
      ],
      "id": "b3e0281f"
    },
    {
      "cell_type": "markdown",
      "metadata": {
        "id": "afc33c00"
      },
      "source": [
        "### Data Dictionary"
      ],
      "id": "afc33c00"
    },
    {
      "cell_type": "markdown",
      "metadata": {
        "id": "663bf6da"
      },
      "source": [
        "age: Displays the age of the individual.\n",
        "\n",
        "sex: Displays the gender of the individual using the following format :\n",
        "1 = male\n",
        "0 = female\n",
        "\n",
        "cp- Chest-pain type: displays the type of chest-pain experienced by the individual using the following format :\n",
        "0 = typical angina\n",
        "1 = atypical angina\n",
        "2 = non — anginal pain\n",
        "3 = asymptotic\n",
        "\n",
        "trestbps- Resting Blood Pressure: displays the resting blood pressure value of an individual in mmHg (unit). anything above 130-140 is typically cause for concern.\n",
        "\n",
        "chol- Serum Cholestrol: displays the serum cholesterol in mg/dl (unit)\n",
        "\n",
        "fbs- Fasting Blood Sugar: compares the fasting blood sugar value of an individual with 120mg/dl.\n",
        "If fasting blood sugar > 120mg/dl then : 1 (true)\n",
        "else : 0 (false)\n",
        "'>126' mg/dL signals diabetes\n",
        "\n",
        "restecg- Resting ECG : displays resting electrocardiographic results\n",
        "0 = normal\n",
        "1 = having ST-T wave abnormality\n",
        "2 = left ventricular hyperthrophy\n",
        "\n",
        "thalach- Max heart rate achieved : displays the max heart rate achieved by an individual.\n",
        "\n",
        "exang- Exercise induced angina :\n",
        "1 = yes\n",
        "0 = no\n",
        "\n",
        "oldpeak- ST depression induced by exercise relative to rest: displays the value which is an integer or float.\n",
        "\n",
        "slope- Slope of the peak exercise ST segment :\n",
        "0 = upsloping: better heart rate with excercise (uncommon)\n",
        "1 = flat: minimal change (typical healthy heart)\n",
        "2 = downsloping: signs of unhealthy heart\n",
        "\n",
        "ca- Number of major vessels (0–3) colored by flourosopy : displays the value as integer or float.\n",
        "\n",
        "thal : Displays the thalassemia :\n",
        "1,3 = normal\n",
        "6 = fixed defect\n",
        "7 = reversible defect: no proper blood movement when excercising\n",
        "\n",
        "target : Displays whether the individual is suffering from heart disease or not :\n",
        "1 = yes\n",
        "0 = no"
      ],
      "id": "663bf6da"
    },
    {
      "cell_type": "markdown",
      "metadata": {
        "id": "7ab3c7ae"
      },
      "source": [
        "### Importing necessary libraries"
      ],
      "id": "7ab3c7ae"
    },
    {
      "cell_type": "code",
      "metadata": {
        "id": "1f468e06"
      },
      "source": [
        "import pandas as pd\n",
        "import numpy as np\n",
        "import sklearn\n",
        "from sklearn.metrics import accuracy_score\n",
        "from sklearn.model_selection import train_test_split\n",
        "from sklearn.preprocessing import StandardScaler\n",
        "import hvplot.pandas\n",
        "import matplotlib.pyplot as plt\n",
        "import seaborn as sns"
      ],
      "id": "1f468e06",
      "execution_count": 39,
      "outputs": []
    },
    {
      "cell_type": "markdown",
      "metadata": {
        "id": "0caf3292"
      },
      "source": [
        "### Loading the dataset as dataframe using pandas"
      ],
      "id": "0caf3292"
    },
    {
      "cell_type": "code",
      "metadata": {
        "id": "tbaxiCgs07Yn"
      },
      "source": [
        "from google.colab import drive\n",
        "drive.mount('/content/drive')"
      ],
      "id": "tbaxiCgs07Yn",
      "execution_count": null,
      "outputs": []
    },
    {
      "cell_type": "code",
      "metadata": {
        "colab": {
          "base_uri": "https://localhost:8080/",
          "height": 206
        },
        "id": "c5023bbf",
        "outputId": "57233534-44c6-437b-8d5c-fcdaf58b0802"
      },
      "source": [
        "dataset= pd.read_csv('/content/drive/MyDrive/heart_disease_classification_dataset.csv')\n",
        "dataset.head()"
      ],
      "id": "c5023bbf",
      "execution_count": 41,
      "outputs": [
        {
          "output_type": "execute_result",
          "data": {
            "text/html": [
              "<div>\n",
              "<style scoped>\n",
              "    .dataframe tbody tr th:only-of-type {\n",
              "        vertical-align: middle;\n",
              "    }\n",
              "\n",
              "    .dataframe tbody tr th {\n",
              "        vertical-align: top;\n",
              "    }\n",
              "\n",
              "    .dataframe thead th {\n",
              "        text-align: right;\n",
              "    }\n",
              "</style>\n",
              "<table border=\"1\" class=\"dataframe\">\n",
              "  <thead>\n",
              "    <tr style=\"text-align: right;\">\n",
              "      <th></th>\n",
              "      <th>Unnamed: 0</th>\n",
              "      <th>age</th>\n",
              "      <th>sex</th>\n",
              "      <th>cp</th>\n",
              "      <th>trestbps</th>\n",
              "      <th>chol</th>\n",
              "      <th>fbs</th>\n",
              "      <th>restecg</th>\n",
              "      <th>thalach</th>\n",
              "      <th>exang</th>\n",
              "      <th>oldpeak</th>\n",
              "      <th>slope</th>\n",
              "      <th>ca</th>\n",
              "      <th>thal</th>\n",
              "      <th>target</th>\n",
              "    </tr>\n",
              "  </thead>\n",
              "  <tbody>\n",
              "    <tr>\n",
              "      <th>0</th>\n",
              "      <td>0</td>\n",
              "      <td>63</td>\n",
              "      <td>male</td>\n",
              "      <td>3</td>\n",
              "      <td>145.0</td>\n",
              "      <td>233.0</td>\n",
              "      <td>1</td>\n",
              "      <td>0</td>\n",
              "      <td>150.0</td>\n",
              "      <td>0</td>\n",
              "      <td>2.3</td>\n",
              "      <td>0</td>\n",
              "      <td>0</td>\n",
              "      <td>1</td>\n",
              "      <td>yes</td>\n",
              "    </tr>\n",
              "    <tr>\n",
              "      <th>1</th>\n",
              "      <td>1</td>\n",
              "      <td>37</td>\n",
              "      <td>male</td>\n",
              "      <td>2</td>\n",
              "      <td>130.0</td>\n",
              "      <td>250.0</td>\n",
              "      <td>0</td>\n",
              "      <td>1</td>\n",
              "      <td>187.0</td>\n",
              "      <td>0</td>\n",
              "      <td>3.5</td>\n",
              "      <td>0</td>\n",
              "      <td>0</td>\n",
              "      <td>2</td>\n",
              "      <td>yes</td>\n",
              "    </tr>\n",
              "    <tr>\n",
              "      <th>2</th>\n",
              "      <td>2</td>\n",
              "      <td>41</td>\n",
              "      <td>female</td>\n",
              "      <td>1</td>\n",
              "      <td>130.0</td>\n",
              "      <td>204.0</td>\n",
              "      <td>0</td>\n",
              "      <td>0</td>\n",
              "      <td>172.0</td>\n",
              "      <td>0</td>\n",
              "      <td>1.4</td>\n",
              "      <td>2</td>\n",
              "      <td>0</td>\n",
              "      <td>2</td>\n",
              "      <td>yes</td>\n",
              "    </tr>\n",
              "    <tr>\n",
              "      <th>3</th>\n",
              "      <td>3</td>\n",
              "      <td>56</td>\n",
              "      <td>male</td>\n",
              "      <td>1</td>\n",
              "      <td>120.0</td>\n",
              "      <td>236.0</td>\n",
              "      <td>0</td>\n",
              "      <td>1</td>\n",
              "      <td>178.0</td>\n",
              "      <td>0</td>\n",
              "      <td>0.8</td>\n",
              "      <td>2</td>\n",
              "      <td>0</td>\n",
              "      <td>2</td>\n",
              "      <td>yes</td>\n",
              "    </tr>\n",
              "    <tr>\n",
              "      <th>4</th>\n",
              "      <td>4</td>\n",
              "      <td>57</td>\n",
              "      <td>female</td>\n",
              "      <td>0</td>\n",
              "      <td>NaN</td>\n",
              "      <td>354.0</td>\n",
              "      <td>0</td>\n",
              "      <td>1</td>\n",
              "      <td>163.0</td>\n",
              "      <td>1</td>\n",
              "      <td>0.6</td>\n",
              "      <td>2</td>\n",
              "      <td>0</td>\n",
              "      <td>2</td>\n",
              "      <td>yes</td>\n",
              "    </tr>\n",
              "  </tbody>\n",
              "</table>\n",
              "</div>"
            ],
            "text/plain": [
              "   Unnamed: 0  age     sex  cp  trestbps  ...  oldpeak  slope  ca  thal  target\n",
              "0           0   63    male   3     145.0  ...      2.3      0   0     1     yes\n",
              "1           1   37    male   2     130.0  ...      3.5      0   0     2     yes\n",
              "2           2   41  female   1     130.0  ...      1.4      2   0     2     yes\n",
              "3           3   56    male   1     120.0  ...      0.8      2   0     2     yes\n",
              "4           4   57  female   0       NaN  ...      0.6      2   0     2     yes\n",
              "\n",
              "[5 rows x 15 columns]"
            ]
          },
          "metadata": {},
          "execution_count": 41
        }
      ]
    },
    {
      "cell_type": "code",
      "metadata": {
        "colab": {
          "base_uri": "https://localhost:8080/",
          "height": 206
        },
        "id": "29d91302",
        "outputId": "8309ed43-0721-4d1d-9836-ad9f7876d839"
      },
      "source": [
        "dataset.drop(dataset.columns[0], axis = 1, inplace = True)\n",
        "dataset.head()"
      ],
      "id": "29d91302",
      "execution_count": 42,
      "outputs": [
        {
          "output_type": "execute_result",
          "data": {
            "text/html": [
              "<div>\n",
              "<style scoped>\n",
              "    .dataframe tbody tr th:only-of-type {\n",
              "        vertical-align: middle;\n",
              "    }\n",
              "\n",
              "    .dataframe tbody tr th {\n",
              "        vertical-align: top;\n",
              "    }\n",
              "\n",
              "    .dataframe thead th {\n",
              "        text-align: right;\n",
              "    }\n",
              "</style>\n",
              "<table border=\"1\" class=\"dataframe\">\n",
              "  <thead>\n",
              "    <tr style=\"text-align: right;\">\n",
              "      <th></th>\n",
              "      <th>age</th>\n",
              "      <th>sex</th>\n",
              "      <th>cp</th>\n",
              "      <th>trestbps</th>\n",
              "      <th>chol</th>\n",
              "      <th>fbs</th>\n",
              "      <th>restecg</th>\n",
              "      <th>thalach</th>\n",
              "      <th>exang</th>\n",
              "      <th>oldpeak</th>\n",
              "      <th>slope</th>\n",
              "      <th>ca</th>\n",
              "      <th>thal</th>\n",
              "      <th>target</th>\n",
              "    </tr>\n",
              "  </thead>\n",
              "  <tbody>\n",
              "    <tr>\n",
              "      <th>0</th>\n",
              "      <td>63</td>\n",
              "      <td>male</td>\n",
              "      <td>3</td>\n",
              "      <td>145.0</td>\n",
              "      <td>233.0</td>\n",
              "      <td>1</td>\n",
              "      <td>0</td>\n",
              "      <td>150.0</td>\n",
              "      <td>0</td>\n",
              "      <td>2.3</td>\n",
              "      <td>0</td>\n",
              "      <td>0</td>\n",
              "      <td>1</td>\n",
              "      <td>yes</td>\n",
              "    </tr>\n",
              "    <tr>\n",
              "      <th>1</th>\n",
              "      <td>37</td>\n",
              "      <td>male</td>\n",
              "      <td>2</td>\n",
              "      <td>130.0</td>\n",
              "      <td>250.0</td>\n",
              "      <td>0</td>\n",
              "      <td>1</td>\n",
              "      <td>187.0</td>\n",
              "      <td>0</td>\n",
              "      <td>3.5</td>\n",
              "      <td>0</td>\n",
              "      <td>0</td>\n",
              "      <td>2</td>\n",
              "      <td>yes</td>\n",
              "    </tr>\n",
              "    <tr>\n",
              "      <th>2</th>\n",
              "      <td>41</td>\n",
              "      <td>female</td>\n",
              "      <td>1</td>\n",
              "      <td>130.0</td>\n",
              "      <td>204.0</td>\n",
              "      <td>0</td>\n",
              "      <td>0</td>\n",
              "      <td>172.0</td>\n",
              "      <td>0</td>\n",
              "      <td>1.4</td>\n",
              "      <td>2</td>\n",
              "      <td>0</td>\n",
              "      <td>2</td>\n",
              "      <td>yes</td>\n",
              "    </tr>\n",
              "    <tr>\n",
              "      <th>3</th>\n",
              "      <td>56</td>\n",
              "      <td>male</td>\n",
              "      <td>1</td>\n",
              "      <td>120.0</td>\n",
              "      <td>236.0</td>\n",
              "      <td>0</td>\n",
              "      <td>1</td>\n",
              "      <td>178.0</td>\n",
              "      <td>0</td>\n",
              "      <td>0.8</td>\n",
              "      <td>2</td>\n",
              "      <td>0</td>\n",
              "      <td>2</td>\n",
              "      <td>yes</td>\n",
              "    </tr>\n",
              "    <tr>\n",
              "      <th>4</th>\n",
              "      <td>57</td>\n",
              "      <td>female</td>\n",
              "      <td>0</td>\n",
              "      <td>NaN</td>\n",
              "      <td>354.0</td>\n",
              "      <td>0</td>\n",
              "      <td>1</td>\n",
              "      <td>163.0</td>\n",
              "      <td>1</td>\n",
              "      <td>0.6</td>\n",
              "      <td>2</td>\n",
              "      <td>0</td>\n",
              "      <td>2</td>\n",
              "      <td>yes</td>\n",
              "    </tr>\n",
              "  </tbody>\n",
              "</table>\n",
              "</div>"
            ],
            "text/plain": [
              "   age     sex  cp  trestbps   chol  ...  oldpeak  slope  ca  thal  target\n",
              "0   63    male   3     145.0  233.0  ...      2.3      0   0     1     yes\n",
              "1   37    male   2     130.0  250.0  ...      3.5      0   0     2     yes\n",
              "2   41  female   1     130.0  204.0  ...      1.4      2   0     2     yes\n",
              "3   56    male   1     120.0  236.0  ...      0.8      2   0     2     yes\n",
              "4   57  female   0       NaN  354.0  ...      0.6      2   0     2     yes\n",
              "\n",
              "[5 rows x 14 columns]"
            ]
          },
          "metadata": {},
          "execution_count": 42
        }
      ]
    },
    {
      "cell_type": "markdown",
      "metadata": {
        "id": "e485ef3b"
      },
      "source": [
        "### Data Analysis"
      ],
      "id": "e485ef3b"
    },
    {
      "cell_type": "code",
      "metadata": {
        "colab": {
          "base_uri": "https://localhost:8080/"
        },
        "id": "53f79d7a",
        "outputId": "d3b6f397-5823-46ff-819a-cea85184acff"
      },
      "source": [
        "dataset.info()"
      ],
      "id": "53f79d7a",
      "execution_count": 43,
      "outputs": [
        {
          "output_type": "stream",
          "name": "stdout",
          "text": [
            "<class 'pandas.core.frame.DataFrame'>\n",
            "RangeIndex: 303 entries, 0 to 302\n",
            "Data columns (total 14 columns):\n",
            " #   Column    Non-Null Count  Dtype  \n",
            "---  ------    --------------  -----  \n",
            " 0   age       303 non-null    int64  \n",
            " 1   sex       303 non-null    object \n",
            " 2   cp        303 non-null    int64  \n",
            " 3   trestbps  299 non-null    float64\n",
            " 4   chol      302 non-null    float64\n",
            " 5   fbs       303 non-null    int64  \n",
            " 6   restecg   303 non-null    int64  \n",
            " 7   thalach   298 non-null    float64\n",
            " 8   exang     303 non-null    int64  \n",
            " 9   oldpeak   303 non-null    float64\n",
            " 10  slope     303 non-null    int64  \n",
            " 11  ca        303 non-null    int64  \n",
            " 12  thal      303 non-null    int64  \n",
            " 13  target    303 non-null    object \n",
            "dtypes: float64(4), int64(8), object(2)\n",
            "memory usage: 33.3+ KB\n"
          ]
        }
      ]
    },
    {
      "cell_type": "code",
      "metadata": {
        "colab": {
          "base_uri": "https://localhost:8080/"
        },
        "id": "32dea492",
        "outputId": "6cc794da-c037-41a0-a9ef-b695b884ab05"
      },
      "source": [
        "dataset.target.value_counts()"
      ],
      "id": "32dea492",
      "execution_count": 44,
      "outputs": [
        {
          "output_type": "execute_result",
          "data": {
            "text/plain": [
              "yes    165\n",
              "no     138\n",
              "Name: target, dtype: int64"
            ]
          },
          "metadata": {},
          "execution_count": 44
        }
      ]
    },
    {
      "cell_type": "code",
      "metadata": {
        "colab": {
          "base_uri": "https://localhost:8080/"
        },
        "id": "4e66eeb1",
        "outputId": "00929747-8282-46b3-892e-0165adad970f"
      },
      "source": [
        "with_heart_disease = dataset.target.value_counts()[0]\n",
        "without_heart_disease = dataset.target.value_counts()[1]\n",
        "print('With Heart Disease: ', with_heart_disease)\n",
        "print('Without Heart Disease: ', without_heart_disease)"
      ],
      "id": "4e66eeb1",
      "execution_count": 45,
      "outputs": [
        {
          "output_type": "stream",
          "name": "stdout",
          "text": [
            "With Heart Disease:  165\n",
            "Without Heart Disease:  138\n"
          ]
        }
      ]
    },
    {
      "cell_type": "code",
      "metadata": {
        "colab": {
          "base_uri": "https://localhost:8080/",
          "height": 295
        },
        "id": "91535bb6",
        "outputId": "37213ec9-86d2-4ed2-aa02-66091f6b4d1a"
      },
      "source": [
        "plt.bar(['With Heart Disease'], [with_heart_disease])\n",
        "plt.bar(['Without Heart Disease'], [without_heart_disease])\n",
        "plt.xlabel('Heart Disease')\n",
        "plt.ylabel('Count')\n",
        "plt.title('Heart Disease Count')\n",
        "plt.show()"
      ],
      "id": "91535bb6",
      "execution_count": 46,
      "outputs": [
        {
          "output_type": "display_data",
          "data": {
            "image/png": "[encoded data removed]",
            "text/plain": [
              "<Figure size 432x288 with 1 Axes>"
            ]
          },
          "metadata": {
            "needs_background": "light"
          }
        }
      ]
    },
    {
      "cell_type": "markdown",
      "metadata": {
        "id": "970a0516"
      },
      "source": [
        "### Data Pre-Processing"
      ],
      "id": "970a0516"
    },
    {
      "cell_type": "markdown",
      "metadata": {
        "id": "26a5ea16"
      },
      "source": [
        "#### Handling Null Values"
      ],
      "id": "26a5ea16"
    },
    {
      "cell_type": "code",
      "metadata": {
        "colab": {
          "base_uri": "https://localhost:8080/"
        },
        "id": "5086f9a1",
        "outputId": "3b4e28e7-a085-4bcb-bc8d-689b3e9e2429"
      },
      "source": [
        "dataset.isnull().sum()"
      ],
      "id": "5086f9a1",
      "execution_count": 47,
      "outputs": [
        {
          "output_type": "execute_result",
          "data": {
            "text/plain": [
              "age         0\n",
              "sex         0\n",
              "cp          0\n",
              "trestbps    4\n",
              "chol        1\n",
              "fbs         0\n",
              "restecg     0\n",
              "thalach     5\n",
              "exang       0\n",
              "oldpeak     0\n",
              "slope       0\n",
              "ca          0\n",
              "thal        0\n",
              "target      0\n",
              "dtype: int64"
            ]
          },
          "metadata": {},
          "execution_count": 47
        }
      ]
    },
    {
      "cell_type": "code",
      "metadata": {
        "id": "75da8819"
      },
      "source": [
        "dataset=dataset.dropna(axis=0,subset=['trestbps','chol','thalach']) "
      ],
      "id": "75da8819",
      "execution_count": 48,
      "outputs": []
    },
    {
      "cell_type": "code",
      "metadata": {
        "colab": {
          "base_uri": "https://localhost:8080/"
        },
        "id": "c46bad0f",
        "outputId": "8de30b3e-7243-4383-a88e-c7dbe5805059"
      },
      "source": [
        "dataset.isnull().sum()"
      ],
      "id": "c46bad0f",
      "execution_count": 49,
      "outputs": [
        {
          "output_type": "execute_result",
          "data": {
            "text/plain": [
              "age         0\n",
              "sex         0\n",
              "cp          0\n",
              "trestbps    0\n",
              "chol        0\n",
              "fbs         0\n",
              "restecg     0\n",
              "thalach     0\n",
              "exang       0\n",
              "oldpeak     0\n",
              "slope       0\n",
              "ca          0\n",
              "thal        0\n",
              "target      0\n",
              "dtype: int64"
            ]
          },
          "metadata": {},
          "execution_count": 49
        }
      ]
    },
    {
      "cell_type": "markdown",
      "metadata": {
        "id": "39a1b5b4"
      },
      "source": [
        "#### Encoding Categorical Features"
      ],
      "id": "39a1b5b4"
    },
    {
      "cell_type": "code",
      "metadata": {
        "colab": {
          "base_uri": "https://localhost:8080/"
        },
        "id": "95c9bae1",
        "outputId": "b47f9326-404f-46f8-f001-fb4f124f6347"
      },
      "source": [
        "dataset['target'].unique()"
      ],
      "id": "95c9bae1",
      "execution_count": 50,
      "outputs": [
        {
          "output_type": "execute_result",
          "data": {
            "text/plain": [
              "array(['yes', 'no'], dtype=object)"
            ]
          },
          "metadata": {},
          "execution_count": 50
        }
      ]
    },
    {
      "cell_type": "code",
      "metadata": {
        "id": "6c8586cb"
      },
      "source": [
        "dataset['target']=dataset['target'].map({'yes':1,'no':0})"
      ],
      "id": "6c8586cb",
      "execution_count": 51,
      "outputs": []
    },
    {
      "cell_type": "code",
      "metadata": {
        "colab": {
          "base_uri": "https://localhost:8080/"
        },
        "id": "9b974498",
        "outputId": "e5e51b88-43a3-4468-f2c1-d7cb0c6da450"
      },
      "source": [
        "dataset['sex'].unique()"
      ],
      "id": "9b974498",
      "execution_count": 52,
      "outputs": [
        {
          "output_type": "execute_result",
          "data": {
            "text/plain": [
              "array(['male', 'female'], dtype=object)"
            ]
          },
          "metadata": {},
          "execution_count": 52
        }
      ]
    },
    {
      "cell_type": "code",
      "metadata": {
        "id": "4079de1b"
      },
      "source": [
        "dataset['sex']=dataset['sex'].map({'male':1,'female':0})"
      ],
      "id": "4079de1b",
      "execution_count": 53,
      "outputs": []
    },
    {
      "cell_type": "code",
      "metadata": {
        "colab": {
          "base_uri": "https://localhost:8080/",
          "height": 206
        },
        "id": "1adb53d1",
        "outputId": "3cdcbb02-192c-4732-f81d-b1ddcbd6f815"
      },
      "source": [
        "dataset.head()"
      ],
      "id": "1adb53d1",
      "execution_count": 54,
      "outputs": [
        {
          "output_type": "execute_result",
          "data": {
            "text/html": [
              "<div>\n",
              "<style scoped>\n",
              "    .dataframe tbody tr th:only-of-type {\n",
              "        vertical-align: middle;\n",
              "    }\n",
              "\n",
              "    .dataframe tbody tr th {\n",
              "        vertical-align: top;\n",
              "    }\n",
              "\n",
              "    .dataframe thead th {\n",
              "        text-align: right;\n",
              "    }\n",
              "</style>\n",
              "<table border=\"1\" class=\"dataframe\">\n",
              "  <thead>\n",
              "    <tr style=\"text-align: right;\">\n",
              "      <th></th>\n",
              "      <th>age</th>\n",
              "      <th>sex</th>\n",
              "      <th>cp</th>\n",
              "      <th>trestbps</th>\n",
              "      <th>chol</th>\n",
              "      <th>fbs</th>\n",
              "      <th>restecg</th>\n",
              "      <th>thalach</th>\n",
              "      <th>exang</th>\n",
              "      <th>oldpeak</th>\n",
              "      <th>slope</th>\n",
              "      <th>ca</th>\n",
              "      <th>thal</th>\n",
              "      <th>target</th>\n",
              "    </tr>\n",
              "  </thead>\n",
              "  <tbody>\n",
              "    <tr>\n",
              "      <th>0</th>\n",
              "      <td>63</td>\n",
              "      <td>1</td>\n",
              "      <td>3</td>\n",
              "      <td>145.0</td>\n",
              "      <td>233.0</td>\n",
              "      <td>1</td>\n",
              "      <td>0</td>\n",
              "      <td>150.0</td>\n",
              "      <td>0</td>\n",
              "      <td>2.3</td>\n",
              "      <td>0</td>\n",
              "      <td>0</td>\n",
              "      <td>1</td>\n",
              "      <td>1</td>\n",
              "    </tr>\n",
              "    <tr>\n",
              "      <th>1</th>\n",
              "      <td>37</td>\n",
              "      <td>1</td>\n",
              "      <td>2</td>\n",
              "      <td>130.0</td>\n",
              "      <td>250.0</td>\n",
              "      <td>0</td>\n",
              "      <td>1</td>\n",
              "      <td>187.0</td>\n",
              "      <td>0</td>\n",
              "      <td>3.5</td>\n",
              "      <td>0</td>\n",
              "      <td>0</td>\n",
              "      <td>2</td>\n",
              "      <td>1</td>\n",
              "    </tr>\n",
              "    <tr>\n",
              "      <th>2</th>\n",
              "      <td>41</td>\n",
              "      <td>0</td>\n",
              "      <td>1</td>\n",
              "      <td>130.0</td>\n",
              "      <td>204.0</td>\n",
              "      <td>0</td>\n",
              "      <td>0</td>\n",
              "      <td>172.0</td>\n",
              "      <td>0</td>\n",
              "      <td>1.4</td>\n",
              "      <td>2</td>\n",
              "      <td>0</td>\n",
              "      <td>2</td>\n",
              "      <td>1</td>\n",
              "    </tr>\n",
              "    <tr>\n",
              "      <th>3</th>\n",
              "      <td>56</td>\n",
              "      <td>1</td>\n",
              "      <td>1</td>\n",
              "      <td>120.0</td>\n",
              "      <td>236.0</td>\n",
              "      <td>0</td>\n",
              "      <td>1</td>\n",
              "      <td>178.0</td>\n",
              "      <td>0</td>\n",
              "      <td>0.8</td>\n",
              "      <td>2</td>\n",
              "      <td>0</td>\n",
              "      <td>2</td>\n",
              "      <td>1</td>\n",
              "    </tr>\n",
              "    <tr>\n",
              "      <th>5</th>\n",
              "      <td>57</td>\n",
              "      <td>1</td>\n",
              "      <td>0</td>\n",
              "      <td>140.0</td>\n",
              "      <td>192.0</td>\n",
              "      <td>0</td>\n",
              "      <td>1</td>\n",
              "      <td>148.0</td>\n",
              "      <td>0</td>\n",
              "      <td>0.4</td>\n",
              "      <td>1</td>\n",
              "      <td>0</td>\n",
              "      <td>1</td>\n",
              "      <td>1</td>\n",
              "    </tr>\n",
              "  </tbody>\n",
              "</table>\n",
              "</div>"
            ],
            "text/plain": [
              "   age  sex  cp  trestbps   chol  fbs  ...  exang  oldpeak  slope  ca  thal  target\n",
              "0   63    1   3     145.0  233.0    1  ...      0      2.3      0   0     1       1\n",
              "1   37    1   2     130.0  250.0    0  ...      0      3.5      0   0     2       1\n",
              "2   41    0   1     130.0  204.0    0  ...      0      1.4      2   0     2       1\n",
              "3   56    1   1     120.0  236.0    0  ...      0      0.8      2   0     2       1\n",
              "5   57    1   0     140.0  192.0    0  ...      0      0.4      1   0     1       1\n",
              "\n",
              "[5 rows x 14 columns]"
            ]
          },
          "metadata": {},
          "execution_count": 54
        }
      ]
    },
    {
      "cell_type": "markdown",
      "metadata": {
        "id": "57a9eec4"
      },
      "source": [
        "### Correlation Matrix"
      ],
      "id": "57a9eec4"
    },
    {
      "cell_type": "code",
      "metadata": {
        "colab": {
          "base_uri": "https://localhost:8080/",
          "height": 595
        },
        "id": "66d6b3d8",
        "outputId": "981178e2-3510-4ced-ec44-45d27a673930"
      },
      "source": [
        "corrmat = dataset.corr()\n",
        "top_corr_features = corrmat.index\n",
        "plt.figure(figsize=(20,10))\n",
        "heatmap=sns.heatmap(dataset[top_corr_features].corr(),annot=True,cmap=\"coolwarm\")"
      ],
      "id": "66d6b3d8",
      "execution_count": 55,
      "outputs": [
        {
          "output_type": "display_data",
          "data": {
            "image/png": "[encoded data removed]",
            "text/plain": [
              "<Figure size 1440x720 with 2 Axes>"
            ]
          },
          "metadata": {
            "needs_background": "light"
          }
        }
      ]
    },
    {
      "cell_type": "code",
      "metadata": {
        "colab": {
          "base_uri": "https://localhost:8080/",
          "height": 17
        },
        "id": "53d8faca",
        "outputId": "c199c842-896f-4b8c-fcd9-b425d95926d1"
      },
      "source": [
        "dataset.drop('target', axis=1).corrwith(dataset.target).hvplot.barh(\n",
        "    width=700, height=500, \n",
        "    title=\"Correlation between Heart Disease and Numerical Features\", \n",
        "    ylabel='Correlation', xlabel='Numerical Features',\n",
        ")"
      ],
      "id": "53d8faca",
      "execution_count": 56,
      "outputs": [
        {
          "output_type": "execute_result",
          "data": {
            "application/vnd.holoviews_exec.v0+json": "",
            "text/plain": [
              ":Bars   [index]   (0)"
            ],
            "text/html": [
              "<div id='1486'>\n",
              "\n",
              "\n",
              "\n",
              "\n",
              "\n",
              "  <div class=\"bk-root\" id=\"5351f6ae-1b79-45cb-bffb-6a35cedb484e\" data-root-id=\"1486\"></div>\n",
              "</div>\n",
              "<script type=\"application/javascript\">(function(root) {\n",
              "  function embed_document(root) {\n",
              "    var docs_json = {\"8c997c5d-b4c8-48e0-9531-9de1fc3f8c9a\":{\"defs\":[{\"extends\":null,\"module\":null,\"name\":\"ReactiveHTML1\",\"overrides\":[],\"properties\":[]},{\"extends\":null,\"module\":null,\"name\":\"FlexBox1\",\"overrides\":[],\"properties\":[{\"default\":\"flex-start\",\"kind\":null,\"name\":\"align_content\"},{\"default\":\"flex-start\",\"kind\":null,\"name\":\"align_items\"},{\"default\":\"row\",\"kind\":null,\"name\":\"flex_direction\"},{\"default\":\"wrap\",\"kind\":null,\"name\":\"flex_wrap\"},{\"default\":\"flex-start\",\"kind\":null,\"name\":\"justify_content\"}]},{\"extends\":null,\"module\":null,\"name\":\"TemplateActions1\",\"overrides\":[],\"properties\":[{\"default\":0,\"kind\":null,\"name\":\"open_modal\"},{\"default\":0,\"kind\":null,\"name\":\"close_modal\"}]},{\"extends\":null,\"module\":null,\"name\":\"MaterialTemplateActions1\",\"overrides\":[],\"properties\":[{\"default\":0,\"kind\":null,\"name\":\"open_modal\"},{\"default\":0,\"kind\":null,\"name\":\"close_modal\"}]}],\"roots\":{\"references\":[{\"attributes\":{\"below\":[{\"id\":\"1500\"}],\"center\":[{\"id\":\"1503\"},{\"id\":\"1506\"}],\"height\":500,\"left\":[{\"id\":\"1504\"}],\"margin\":[5,5,5,5],\"min_border_bottom\":10,\"min_border_left\":10,\"min_border_right\":10,\"min_border_top\":10,\"renderers\":[{\"id\":\"1526\"}],\"sizing_mode\":\"fixed\",\"title\":{\"id\":\"1492\"},\"toolbar\":{\"id\":\"1513\"},\"width\":700,\"x_range\":{\"id\":\"1488\"},\"x_scale\":{\"id\":\"1496\"},\"y_range\":{\"id\":\"1489\"},\"y_scale\":{\"id\":\"1498\"}},\"id\":\"1491\",\"subtype\":\"Figure\",\"type\":\"Plot\"},{\"attributes\":{},\"id\":\"1496\",\"type\":\"LinearScale\"},{\"attributes\":{\"axis\":{\"id\":\"1504\"},\"dimension\":1,\"grid_line_color\":null,\"ticker\":null},\"id\":\"1506\",\"type\":\"Grid\"},{\"attributes\":{},\"id\":\"1501\",\"type\":\"BasicTicker\"},{\"attributes\":{\"axis\":{\"id\":\"1500\"},\"grid_line_color\":null,\"ticker\":null},\"id\":\"1503\",\"type\":\"Grid\"},{\"attributes\":{},\"id\":\"1542\",\"type\":\"UnionRenderers\"},{\"attributes\":{\"children\":[{\"id\":\"1487\"},{\"id\":\"1491\"},{\"id\":\"1555\"}],\"margin\":[0,0,0,0],\"name\":\"Row02437\",\"tags\":[\"embedded\"]},\"id\":\"1486\",\"type\":\"Row\"},{\"attributes\":{},\"id\":\"1505\",\"type\":\"CategoricalTicker\"},{\"attributes\":{},\"id\":\"1521\",\"type\":\"Selection\"},{\"attributes\":{\"axis_label\":\"Numerical Features\",\"formatter\":{\"id\":\"1534\"},\"major_label_policy\":{\"id\":\"1532\"},\"ticker\":{\"id\":\"1505\"}},\"id\":\"1504\",\"type\":\"CategoricalAxis\"},{\"attributes\":{\"callback\":null,\"renderers\":[{\"id\":\"1526\"}],\"tags\":[\"hv_created\"],\"tooltips\":[[\"index\",\"@{index}\"],[\"0\",\"@{A_0}\"]]},\"id\":\"1490\",\"type\":\"HoverTool\"},{\"attributes\":{\"bottom_units\":\"screen\",\"fill_alpha\":0.5,\"fill_color\":\"lightgrey\",\"left_units\":\"screen\",\"level\":\"overlay\",\"line_alpha\":1.0,\"line_color\":\"black\",\"line_dash\":[4,4],\"line_width\":2,\"right_units\":\"screen\",\"syncable\":false,\"top_units\":\"screen\"},\"id\":\"1512\",\"type\":\"BoxAnnotation\"},{\"attributes\":{\"data_source\":{\"id\":\"1520\"},\"glyph\":{\"id\":\"1523\"},\"hover_glyph\":null,\"muted_glyph\":{\"id\":\"1525\"},\"nonselection_glyph\":{\"id\":\"1524\"},\"selection_glyph\":{\"id\":\"1528\"},\"view\":{\"id\":\"1527\"}},\"id\":\"1526\",\"type\":\"GlyphRenderer\"},{\"attributes\":{\"fill_alpha\":{\"value\":0.2},\"fill_color\":{\"value\":\"#30a2da\"},\"height\":{\"value\":0.8},\"line_alpha\":{\"value\":0.2},\"right\":{\"field\":\"A_0\"},\"y\":{\"field\":\"index\"}},\"id\":\"1525\",\"type\":\"HBar\"},{\"attributes\":{\"margin\":[5,5,5,5],\"name\":\"HSpacer02441\",\"sizing_mode\":\"stretch_width\"},\"id\":\"1487\",\"type\":\"Spacer\"},{\"attributes\":{\"active_multi\":null,\"tools\":[{\"id\":\"1490\"},{\"id\":\"1507\"},{\"id\":\"1508\"},{\"id\":\"1509\"},{\"id\":\"1510\"},{\"id\":\"1511\"}]},\"id\":\"1513\",\"type\":\"Toolbar\"},{\"attributes\":{\"factors\":[\"age\",\"sex\",\"cp\",\"trestbps\",\"chol\",\"fbs\",\"restecg\",\"thalach\",\"exang\",\"oldpeak\",\"slope\",\"ca\",\"thal\"],\"tags\":[[[\"index\",\"index\",null]]]},\"id\":\"1489\",\"type\":\"FactorRange\"},{\"attributes\":{\"fill_alpha\":{\"value\":1.0},\"fill_color\":{\"value\":\"#30a2da\"},\"hatch_alpha\":{\"value\":1.0},\"hatch_color\":{\"value\":\"black\"},\"hatch_scale\":{\"value\":12.0},\"hatch_weight\":{\"value\":1.0},\"height\":{\"value\":0.8},\"left\":{\"value\":0},\"line_alpha\":{\"value\":1.0},\"line_cap\":{\"value\":\"butt\"},\"line_color\":{\"value\":\"black\"},\"line_dash\":{\"value\":[]},\"line_dash_offset\":{\"value\":0},\"line_join\":{\"value\":\"bevel\"},\"line_width\":{\"value\":1},\"right\":{\"field\":\"A_0\"},\"y\":{\"field\":\"index\"}},\"id\":\"1528\",\"type\":\"HBar\"},{\"attributes\":{},\"id\":\"1507\",\"type\":\"SaveTool\"},{\"attributes\":{},\"id\":\"1531\",\"type\":\"BasicTickFormatter\"},{\"attributes\":{},\"id\":\"1508\",\"type\":\"PanTool\"},{\"attributes\":{\"margin\":[5,5,5,5],\"name\":\"HSpacer02442\",\"sizing_mode\":\"stretch_width\"},\"id\":\"1555\",\"type\":\"Spacer\"},{\"attributes\":{},\"id\":\"1534\",\"type\":\"CategoricalTickFormatter\"},{\"attributes\":{},\"id\":\"1509\",\"type\":\"WheelZoomTool\"},{\"attributes\":{},\"id\":\"1532\",\"type\":\"AllLabels\"},{\"attributes\":{\"fill_color\":{\"value\":\"#30a2da\"},\"height\":{\"value\":0.8},\"right\":{\"field\":\"A_0\"},\"y\":{\"field\":\"index\"}},\"id\":\"1523\",\"type\":\"HBar\"},{\"attributes\":{\"overlay\":{\"id\":\"1512\"}},\"id\":\"1510\",\"type\":\"BoxZoomTool\"},{\"attributes\":{\"data\":{\"A_0\":{\"__ndarray__\":\"0Mug9Mmiy79bvap8g1vRv/dGYDmVRdw/hxNwbq/Nwb/kuo2UnnK6v8PWn9YbYp2/3K/A2sBVwj+Lvs10Yl3aP053XdNE39y/5EuaHPcp3L/4nVkafifWPxKVKugbHtm/8RGl2jRz1r8=\",\"dtype\":\"float64\",\"order\":\"little\",\"shape\":[13]},\"index\":[\"age\",\"sex\",\"cp\",\"trestbps\",\"chol\",\"fbs\",\"restecg\",\"thalach\",\"exang\",\"oldpeak\",\"slope\",\"ca\",\"thal\"]},\"selected\":{\"id\":\"1521\"},\"selection_policy\":{\"id\":\"1542\"}},\"id\":\"1520\",\"type\":\"ColumnDataSource\"},{\"attributes\":{},\"id\":\"1529\",\"type\":\"AllLabels\"},{\"attributes\":{\"source\":{\"id\":\"1520\"}},\"id\":\"1527\",\"type\":\"CDSView\"},{\"attributes\":{\"axis_label\":\"Correlation\",\"formatter\":{\"id\":\"1531\"},\"major_label_policy\":{\"id\":\"1529\"},\"ticker\":{\"id\":\"1501\"}},\"id\":\"1500\",\"type\":\"LinearAxis\"},{\"attributes\":{\"end\":0.531034428859317,\"reset_end\":0.531034428859317,\"reset_start\":-0.5404146744303593,\"start\":-0.5404146744303593,\"tags\":[[[\"0\",\"0\",null]]]},\"id\":\"1488\",\"type\":\"Range1d\"},{\"attributes\":{\"fill_alpha\":{\"value\":0.1},\"fill_color\":{\"value\":\"#30a2da\"},\"height\":{\"value\":0.8},\"line_alpha\":{\"value\":0.1},\"right\":{\"field\":\"A_0\"},\"y\":{\"field\":\"index\"}},\"id\":\"1524\",\"type\":\"HBar\"},{\"attributes\":{\"text\":\"Correlation between Heart Disease and Numerical Features\",\"text_color\":\"black\",\"text_font_size\":\"12pt\"},\"id\":\"1492\",\"type\":\"Title\"},{\"attributes\":{},\"id\":\"1511\",\"type\":\"ResetTool\"},{\"attributes\":{},\"id\":\"1498\",\"type\":\"CategoricalScale\"}],\"root_ids\":[\"1486\"]},\"title\":\"Bokeh Application\",\"version\":\"2.3.3\"}};\n",
              "    var render_items = [{\"docid\":\"8c997c5d-b4c8-48e0-9531-9de1fc3f8c9a\",\"root_ids\":[\"1486\"],\"roots\":{\"1486\":\"5351f6ae-1b79-45cb-bffb-6a35cedb484e\"}}];\n",
              "    root.Bokeh.embed.embed_items_notebook(docs_json, render_items);\n",
              "  }\n",
              "  if (root.Bokeh !== undefined && root.Bokeh.Panel !== undefined) {\n",
              "    embed_document(root);\n",
              "  } else {\n",
              "    var attempts = 0;\n",
              "    var timer = setInterval(function(root) {\n",
              "      if (root.Bokeh !== undefined && root.Bokeh.Panel !== undefined) {\n",
              "        clearInterval(timer);\n",
              "        embed_document(root);\n",
              "      } else if (document.readyState == \"complete\") {\n",
              "        attempts++;\n",
              "        if (attempts > 200) {\n",
              "          clearInterval(timer);\n",
              "          console.log(\"Bokeh: ERROR: Unable to run BokehJS code because BokehJS library is missing\");\n",
              "        }\n",
              "      }\n",
              "    }, 25, root)\n",
              "  }\n",
              "})(window);</script>"
            ]
          },
          "metadata": {
            "application/vnd.holoviews_exec.v0+json": {
              "id": "1486"
            }
          },
          "execution_count": 56
        }
      ]
    },
    {
      "cell_type": "markdown",
      "metadata": {
        "id": "eeb12cd7"
      },
      "source": [
        "fbs and chol are the lowest correlated with the target variable"
      ],
      "id": "eeb12cd7"
    },
    {
      "cell_type": "markdown",
      "metadata": {
        "id": "1a1e9da2"
      },
      "source": [
        "### Building Model"
      ],
      "id": "1a1e9da2"
    },
    {
      "cell_type": "code",
      "metadata": {
        "id": "2b6d2d6a"
      },
      "source": [
        "y = dataset.target.values\n",
        "x = dataset.drop(['target'], axis = 1)\n",
        "\n",
        "x_train, x_test, y_train, y_test = train_test_split(x, y, test_size=0.2, random_state=0)"
      ],
      "id": "2b6d2d6a",
      "execution_count": 59,
      "outputs": []
    },
    {
      "cell_type": "code",
      "metadata": {
        "colab": {
          "base_uri": "https://localhost:8080/"
        },
        "id": "6788a058",
        "outputId": "d6e600b0-625e-4e5d-e548-6c0456404e25"
      },
      "source": [
        "print(x_train.shape)\n",
        "print(y_train.shape)\n",
        "print(x_test.shape)\n",
        "print(y_test.shape)"
      ],
      "id": "6788a058",
      "execution_count": 60,
      "outputs": [
        {
          "output_type": "stream",
          "name": "stdout",
          "text": [
            "(234, 13)\n",
            "(234,)\n",
            "(59, 13)\n",
            "(59,)\n"
          ]
        }
      ]
    },
    {
      "cell_type": "markdown",
      "metadata": {
        "id": "1581152b"
      },
      "source": [
        "### Predicting Accuracy With ML Models"
      ],
      "id": "1581152b"
    },
    {
      "cell_type": "markdown",
      "metadata": {
        "id": "b357aacc"
      },
      "source": [
        "#### Decision Tree Classifier"
      ],
      "id": "b357aacc"
    },
    {
      "cell_type": "code",
      "metadata": {
        "colab": {
          "base_uri": "https://localhost:8080/"
        },
        "id": "87f44361",
        "outputId": "ba7d9011-084b-4054-9799-9733b0b202b3"
      },
      "source": [
        "from sklearn.tree import DecisionTreeClassifier\n",
        "\n",
        "dclf = DecisionTreeClassifier(criterion='entropy',random_state=1)\n",
        "dclf.fit(x_train,y_train)\n",
        "dclf_predictions = dclf.predict(x_test)\n",
        "decision_tree_accuracy= accuracy_score(y_test,dclf_predictions )*100\n",
        "print('Decision Tree Testing Accuracy: ', decision_tree_accuracy)"
      ],
      "id": "87f44361",
      "execution_count": 61,
      "outputs": [
        {
          "output_type": "stream",
          "name": "stdout",
          "text": [
            "Decision Tree Testing Accuracy:  77.96610169491525\n"
          ]
        }
      ]
    },
    {
      "cell_type": "markdown",
      "metadata": {
        "id": "80ebbdd8"
      },
      "source": [
        "#### Logistic Regression"
      ],
      "id": "80ebbdd8"
    },
    {
      "cell_type": "code",
      "metadata": {
        "colab": {
          "base_uri": "https://localhost:8080/"
        },
        "id": "327b9f3a",
        "outputId": "e339fd02-ecc6-4068-9da4-776e15a7c30d"
      },
      "source": [
        "from sklearn.linear_model import LogisticRegression\n",
        "\n",
        "logistic_regression_model = LogisticRegression(max_iter=1000)\n",
        "logistic_regression_model.fit(x_train, y_train) \n",
        "logistic_predictions =logistic_regression_model.predict(x_test)\n",
        "logistic_regression_accuracy=accuracy_score(y_test, logistic_predictions)*100\n",
        "\n",
        "\n",
        "print('Logistic Regression Testing Accuracy: ',logistic_regression_accuracy)"
      ],
      "id": "327b9f3a",
      "execution_count": 62,
      "outputs": [
        {
          "output_type": "stream",
          "name": "stdout",
          "text": [
            "Logistic Regression Testing Accuracy:  83.05084745762711\n"
          ]
        }
      ]
    },
    {
      "cell_type": "markdown",
      "metadata": {
        "id": "d2eef49a"
      },
      "source": [
        "#### Support Vector Machine (SVM)"
      ],
      "id": "d2eef49a"
    },
    {
      "cell_type": "code",
      "metadata": {
        "colab": {
          "base_uri": "https://localhost:8080/"
        },
        "id": "ea29eb8b",
        "outputId": "69c1b8a4-2950-4ccb-a84b-5499a7415336"
      },
      "source": [
        "from sklearn.svm import SVC\n",
        "\n",
        "svc_model = SVC(kernel=\"linear\")\n",
        "svc_model.fit(x_train, y_train)\n",
        "svc_predictions= svc_model.predict(x_test)\n",
        "svc_accuracy=accuracy_score(y_test,svc_predictions)*100\n",
        "print('SVM Testing Accuracy: ',svc_accuracy)"
      ],
      "id": "ea29eb8b",
      "execution_count": 63,
      "outputs": [
        {
          "output_type": "stream",
          "name": "stdout",
          "text": [
            "SVM Testing Accuracy:  81.35593220338984\n"
          ]
        }
      ]
    },
    {
      "cell_type": "markdown",
      "metadata": {
        "id": "543457ce"
      },
      "source": [
        "#### Random Forest"
      ],
      "id": "543457ce"
    },
    {
      "cell_type": "code",
      "metadata": {
        "colab": {
          "base_uri": "https://localhost:8080/"
        },
        "id": "a14101de",
        "outputId": "c8de89c4-de50-46c7-f825-2036c9c5504b"
      },
      "source": [
        "from sklearn.ensemble import RandomForestClassifier\n",
        "rfc = RandomForestClassifier(n_estimators=50)\n",
        "rfc.fit(x_train, y_train)\n",
        "\n",
        "rfc_predictions = rfc.predict(x_test)\n",
        "rfc_accuracy= accuracy_score(y_test, rfc_predictions)*100\n",
        "print('Random Forest Testing Accuracy', rfc_accuracy)"
      ],
      "id": "a14101de",
      "execution_count": 64,
      "outputs": [
        {
          "output_type": "stream",
          "name": "stdout",
          "text": [
            "Random Forest Testing Accuracy 81.35593220338984\n"
          ]
        }
      ]
    },
    {
      "cell_type": "markdown",
      "metadata": {
        "id": "32ceb418"
      },
      "source": [
        "#### Neural Network (Multilayer Perceptron Classifier)"
      ],
      "id": "32ceb418"
    },
    {
      "cell_type": "code",
      "metadata": {
        "colab": {
          "base_uri": "https://localhost:8080/"
        },
        "id": "1779d4b3",
        "outputId": "e2623347-28be-4b2b-9cb5-48ded9d4b4e2"
      },
      "source": [
        "from sklearn.neural_network import MLPClassifier\n",
        "nnc=MLPClassifier(hidden_layer_sizes=(7), activation=\"relu\", max_iter=10000)\n",
        "nnc.fit(x_train, y_train)\n",
        "\n",
        "nnc_predictions = nnc.predict(x_test)\n",
        "nnc_accuracy= accuracy_score(y_test, nnc_predictions)*100\n",
        "print('Neural Network Testing Accuracy', nnc_accuracy)"
      ],
      "id": "1779d4b3",
      "execution_count": 65,
      "outputs": [
        {
          "output_type": "stream",
          "name": "stdout",
          "text": [
            "Neural Network Testing Accuracy 72.88135593220339\n"
          ]
        }
      ]
    },
    {
      "cell_type": "markdown",
      "metadata": {
        "id": "e779a928"
      },
      "source": [
        "#### Extreme Gradient Boost"
      ],
      "id": "e779a928"
    },
    {
      "cell_type": "code",
      "metadata": {
        "colab": {
          "base_uri": "https://localhost:8080/"
        },
        "id": "cf63011e",
        "outputId": "8e9567b1-3757-4661-f2a3-c2a996e47cf2"
      },
      "source": [
        "import xgboost\n",
        "from xgboost import XGBClassifier\n",
        "\n",
        "xgb_model = XGBClassifier(eval_metric='mlogloss', use_label_encoder =False)\n",
        "xgb_model.fit(x_train, y_train)\n",
        "\n",
        "xgb_pred = xgb_model.predict(x_test)\n",
        "xgb_accuracy = accuracy_score(y_test,xgb_pred)*100\n",
        "print('XGBoost Testing accuracy',xgb_accuracy)"
      ],
      "id": "cf63011e",
      "execution_count": 66,
      "outputs": [
        {
          "output_type": "stream",
          "name": "stdout",
          "text": [
            "XGBoost Testing accuracy 74.57627118644068\n"
          ]
        }
      ]
    },
    {
      "cell_type": "markdown",
      "metadata": {
        "id": "af232ab3"
      },
      "source": [
        "#### Light Gradient Boosting Machine"
      ],
      "id": "af232ab3"
    },
    {
      "cell_type": "code",
      "metadata": {
        "colab": {
          "base_uri": "https://localhost:8080/"
        },
        "id": "2177b6d2",
        "outputId": "cf963b0f-5fd5-4046-ed0f-58ee4f6cb3e5"
      },
      "source": [
        "import lightgbm as lgb\n",
        "\n",
        "lgb_model = lgb.LGBMClassifier()\n",
        "lgb_model.fit(x_train, y_train)\n",
        "\n",
        "lgb_pred = lgb_model.predict(x_test)\n",
        "lgb_accuracy = accuracy_score(y_test,lgb_pred)*100\n",
        "print('LightGBM Testing accuracy',lgb_accuracy)"
      ],
      "id": "2177b6d2",
      "execution_count": 67,
      "outputs": [
        {
          "output_type": "stream",
          "name": "stdout",
          "text": [
            "LightGBM Testing accuracy 79.66101694915254\n"
          ]
        }
      ]
    },
    {
      "cell_type": "markdown",
      "metadata": {
        "id": "08d15c4b"
      },
      "source": [
        "### Model Evaluation"
      ],
      "id": "08d15c4b"
    },
    {
      "cell_type": "code",
      "metadata": {
        "colab": {
          "base_uri": "https://localhost:8080/",
          "height": 238
        },
        "id": "3fb4983f",
        "outputId": "b922ca17-feb7-459e-d1e6-bc5d9d26fa46"
      },
      "source": [
        "model_evaluation = pd.DataFrame({'Model': ['Decision Tree','Logistic Regression',\n",
        "                                          'Support Vector Machine','Neural Network',\n",
        "                                          'XGBoost','LightGBM'], 'Accuracy': [decision_tree_accuracy,\n",
        "                                           logistic_regression_accuracy,svc_accuracy,nnc_accuracy,\n",
        "                                            xgb_accuracy,lgb_accuracy]})\n",
        "model_evaluation"
      ],
      "id": "3fb4983f",
      "execution_count": 68,
      "outputs": [
        {
          "output_type": "execute_result",
          "data": {
            "text/html": [
              "<div>\n",
              "<style scoped>\n",
              "    .dataframe tbody tr th:only-of-type {\n",
              "        vertical-align: middle;\n",
              "    }\n",
              "\n",
              "    .dataframe tbody tr th {\n",
              "        vertical-align: top;\n",
              "    }\n",
              "\n",
              "    .dataframe thead th {\n",
              "        text-align: right;\n",
              "    }\n",
              "</style>\n",
              "<table border=\"1\" class=\"dataframe\">\n",
              "  <thead>\n",
              "    <tr style=\"text-align: right;\">\n",
              "      <th></th>\n",
              "      <th>Model</th>\n",
              "      <th>Accuracy</th>\n",
              "    </tr>\n",
              "  </thead>\n",
              "  <tbody>\n",
              "    <tr>\n",
              "      <th>0</th>\n",
              "      <td>Decision Tree</td>\n",
              "      <td>77.966102</td>\n",
              "    </tr>\n",
              "    <tr>\n",
              "      <th>1</th>\n",
              "      <td>Logistic Regression</td>\n",
              "      <td>83.050847</td>\n",
              "    </tr>\n",
              "    <tr>\n",
              "      <th>2</th>\n",
              "      <td>Support Vector Machine</td>\n",
              "      <td>81.355932</td>\n",
              "    </tr>\n",
              "    <tr>\n",
              "      <th>3</th>\n",
              "      <td>Neural Network</td>\n",
              "      <td>72.881356</td>\n",
              "    </tr>\n",
              "    <tr>\n",
              "      <th>4</th>\n",
              "      <td>XGBoost</td>\n",
              "      <td>74.576271</td>\n",
              "    </tr>\n",
              "    <tr>\n",
              "      <th>5</th>\n",
              "      <td>LightGBM</td>\n",
              "      <td>79.661017</td>\n",
              "    </tr>\n",
              "  </tbody>\n",
              "</table>\n",
              "</div>"
            ],
            "text/plain": [
              "                    Model   Accuracy\n",
              "0           Decision Tree  77.966102\n",
              "1     Logistic Regression  83.050847\n",
              "2  Support Vector Machine  81.355932\n",
              "3          Neural Network  72.881356\n",
              "4                 XGBoost  74.576271\n",
              "5                LightGBM  79.661017"
            ]
          },
          "metadata": {},
          "execution_count": 68
        }
      ]
    },
    {
      "cell_type": "code",
      "metadata": {
        "colab": {
          "base_uri": "https://localhost:8080/",
          "height": 350
        },
        "id": "08bc4c1f",
        "outputId": "0de34f85-10d4-4df7-9fbf-01b699733794"
      },
      "source": [
        "colors = ['red','green','orange','purple','blue','brown']\n",
        "plt.figure(figsize=(12,5))\n",
        "plt.title(\"Testing Accuracy of different models\")\n",
        "plt.xlabel(\"Accuracy %\")\n",
        "plt.ylabel(\"Algorithms\")\n",
        "plt.bar(model_evaluation['Model'],model_evaluation['Accuracy'],color = colors)\n",
        "plt.show()"
      ],
      "id": "08bc4c1f",
      "execution_count": 69,
      "outputs": [
        {
          "output_type": "display_data",
          "data": {
            "image/png": "[encoded data removed]",
            "text/plain": [
              "<Figure size 864x360 with 1 Axes>"
            ]
          },
          "metadata": {
            "needs_background": "light"
          }
        }
      ]
    }
  ]
}